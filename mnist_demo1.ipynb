{
 "cells": [
  {
   "cell_type": "code",
   "execution_count": 52,
   "id": "initial_id",
   "metadata": {
    "collapsed": true,
    "ExecuteTime": {
     "end_time": "2024-04-08T12:31:04.151575Z",
     "start_time": "2024-04-08T12:31:01.481974Z"
    }
   },
   "outputs": [
    {
     "name": "stderr",
     "output_type": "stream",
     "text": [
      "2024-04-08 15:31:01.831363: I tensorflow/core/util/port.cc:113] oneDNN custom operations are on. You may see slightly different numerical results due to floating-point round-off errors from different computation orders. To turn them off, set the environment variable `TF_ENABLE_ONEDNN_OPTS=0`.\n",
      "2024-04-08 15:31:01.835751: I external/local_tsl/tsl/cuda/cudart_stub.cc:31] Could not find cuda drivers on your machine, GPU will not be used.\n",
      "2024-04-08 15:31:01.938321: E external/local_xla/xla/stream_executor/cuda/cuda_dnn.cc:9261] Unable to register cuDNN factory: Attempting to register factory for plugin cuDNN when one has already been registered\n",
      "2024-04-08 15:31:01.938371: E external/local_xla/xla/stream_executor/cuda/cuda_fft.cc:607] Unable to register cuFFT factory: Attempting to register factory for plugin cuFFT when one has already been registered\n",
      "2024-04-08 15:31:01.939641: E external/local_xla/xla/stream_executor/cuda/cuda_blas.cc:1515] Unable to register cuBLAS factory: Attempting to register factory for plugin cuBLAS when one has already been registered\n",
      "2024-04-08 15:31:01.947558: I external/local_tsl/tsl/cuda/cudart_stub.cc:31] Could not find cuda drivers on your machine, GPU will not be used.\n",
      "2024-04-08 15:31:01.948172: I tensorflow/core/platform/cpu_feature_guard.cc:182] This TensorFlow binary is optimized to use available CPU instructions in performance-critical operations.\n",
      "To enable the following instructions: AVX2 AVX512F AVX512_VNNI FMA, in other operations, rebuild TensorFlow with the appropriate compiler flags.\n",
      "2024-04-08 15:31:03.411777: W tensorflow/compiler/tf2tensorrt/utils/py_utils.cc:38] TF-TRT Warning: Could not find TensorRT\n"
     ]
    }
   ],
   "source": [
    "import numpy as np\n",
    "import pandas as pd\n",
    "import matplotlib.pyplot as plt\n",
    "import seaborn as sns\n",
    "from pathlib import *\n",
    "import tensorflow as tf\n",
    "import cv2\n",
    "\n",
    "sns.set_theme()"
   ]
  },
  {
   "cell_type": "code",
   "outputs": [
    {
     "data": {
      "text/plain": "                              path  label  split\n0        mnist_png/test/2/6773.png      2   test\n1         mnist_png/test/2/995.png      2   test\n2        mnist_png/test/2/1262.png      2   test\n3        mnist_png/test/2/7518.png      2   test\n4        mnist_png/test/2/2432.png      2   test\n...                            ...    ...    ...\n69995  mnist_png/train/1/44988.png      1  train\n69996  mnist_png/train/1/14212.png      1  train\n69997  mnist_png/train/1/10267.png      1  train\n69998  mnist_png/train/1/46468.png      1  train\n69999  mnist_png/train/1/26485.png      1  train\n\n[70000 rows x 3 columns]",
      "text/html": "<div>\n<style scoped>\n    .dataframe tbody tr th:only-of-type {\n        vertical-align: middle;\n    }\n\n    .dataframe tbody tr th {\n        vertical-align: top;\n    }\n\n    .dataframe thead th {\n        text-align: right;\n    }\n</style>\n<table border=\"1\" class=\"dataframe\">\n  <thead>\n    <tr style=\"text-align: right;\">\n      <th></th>\n      <th>path</th>\n      <th>label</th>\n      <th>split</th>\n    </tr>\n  </thead>\n  <tbody>\n    <tr>\n      <th>0</th>\n      <td>mnist_png/test/2/6773.png</td>\n      <td>2</td>\n      <td>test</td>\n    </tr>\n    <tr>\n      <th>1</th>\n      <td>mnist_png/test/2/995.png</td>\n      <td>2</td>\n      <td>test</td>\n    </tr>\n    <tr>\n      <th>2</th>\n      <td>mnist_png/test/2/1262.png</td>\n      <td>2</td>\n      <td>test</td>\n    </tr>\n    <tr>\n      <th>3</th>\n      <td>mnist_png/test/2/7518.png</td>\n      <td>2</td>\n      <td>test</td>\n    </tr>\n    <tr>\n      <th>4</th>\n      <td>mnist_png/test/2/2432.png</td>\n      <td>2</td>\n      <td>test</td>\n    </tr>\n    <tr>\n      <th>...</th>\n      <td>...</td>\n      <td>...</td>\n      <td>...</td>\n    </tr>\n    <tr>\n      <th>69995</th>\n      <td>mnist_png/train/1/44988.png</td>\n      <td>1</td>\n      <td>train</td>\n    </tr>\n    <tr>\n      <th>69996</th>\n      <td>mnist_png/train/1/14212.png</td>\n      <td>1</td>\n      <td>train</td>\n    </tr>\n    <tr>\n      <th>69997</th>\n      <td>mnist_png/train/1/10267.png</td>\n      <td>1</td>\n      <td>train</td>\n    </tr>\n    <tr>\n      <th>69998</th>\n      <td>mnist_png/train/1/46468.png</td>\n      <td>1</td>\n      <td>train</td>\n    </tr>\n    <tr>\n      <th>69999</th>\n      <td>mnist_png/train/1/26485.png</td>\n      <td>1</td>\n      <td>train</td>\n    </tr>\n  </tbody>\n</table>\n<p>70000 rows × 3 columns</p>\n</div>"
     },
     "execution_count": 93,
     "metadata": {},
     "output_type": "execute_result"
    }
   ],
   "source": [
    "dataset_path = Path('./mnist_png')\n",
    "\n",
    "files = dataset_path.rglob('*')\n",
    "files\n",
    "\n",
    "samples = []\n",
    "\n",
    "for f in files:\n",
    "    if not f.is_file():\n",
    "        continue\n",
    "        \n",
    "    samples.append({\n",
    "        'path': f,\n",
    "        'label': int(f.parent.name),\n",
    "        'split': f.parent.parent.name\n",
    "    })\n",
    "    \n",
    "df = pd.DataFrame(samples)\n",
    "df"
   ],
   "metadata": {
    "collapsed": false,
    "ExecuteTime": {
     "end_time": "2024-04-08T12:45:55.802726Z",
     "start_time": "2024-04-08T12:45:54.751805Z"
    }
   },
   "id": "a77b4ca7fae07abd",
   "execution_count": 93
  },
  {
   "cell_type": "code",
   "outputs": [
    {
     "data": {
      "text/plain": "              label\ncount  70000.000000\nmean       4.452429\nstd        2.890195\nmin        0.000000\n25%        2.000000\n50%        4.000000\n75%        7.000000\nmax        9.000000",
      "text/html": "<div>\n<style scoped>\n    .dataframe tbody tr th:only-of-type {\n        vertical-align: middle;\n    }\n\n    .dataframe tbody tr th {\n        vertical-align: top;\n    }\n\n    .dataframe thead th {\n        text-align: right;\n    }\n</style>\n<table border=\"1\" class=\"dataframe\">\n  <thead>\n    <tr style=\"text-align: right;\">\n      <th></th>\n      <th>label</th>\n    </tr>\n  </thead>\n  <tbody>\n    <tr>\n      <th>count</th>\n      <td>70000.000000</td>\n    </tr>\n    <tr>\n      <th>mean</th>\n      <td>4.452429</td>\n    </tr>\n    <tr>\n      <th>std</th>\n      <td>2.890195</td>\n    </tr>\n    <tr>\n      <th>min</th>\n      <td>0.000000</td>\n    </tr>\n    <tr>\n      <th>25%</th>\n      <td>2.000000</td>\n    </tr>\n    <tr>\n      <th>50%</th>\n      <td>4.000000</td>\n    </tr>\n    <tr>\n      <th>75%</th>\n      <td>7.000000</td>\n    </tr>\n    <tr>\n      <th>max</th>\n      <td>9.000000</td>\n    </tr>\n  </tbody>\n</table>\n</div>"
     },
     "execution_count": 94,
     "metadata": {},
     "output_type": "execute_result"
    }
   ],
   "source": [
    "df.describe()"
   ],
   "metadata": {
    "collapsed": false,
    "ExecuteTime": {
     "end_time": "2024-04-08T12:45:59.749601Z",
     "start_time": "2024-04-08T12:45:59.742684Z"
    }
   },
   "id": "b62a7b87ee493933",
   "execution_count": 94
  },
  {
   "cell_type": "code",
   "outputs": [
    {
     "data": {
      "text/plain": "<Figure size 1000x400 with 6 Axes>",
      "image/png": "[encoded data removed]"
     },
     "metadata": {},
     "output_type": "display_data"
    }
   ],
   "source": [
    "random_samples = df.sample(6)\n",
    "\n",
    "fig, ax = plt.subplots(ncols=6, nrows=1, figsize=(10,4))\n",
    "\n",
    "i = 0\n",
    "for idx, row in random_samples.iterrows():\n",
    "    img = cv2.imread(str(row.path))\n",
    "    ax[i].imshow(img)\n",
    "    ax[i].set_title(row.label)\n",
    "    i = i+1\n",
    "    \n",
    "    "
   ],
   "metadata": {
    "collapsed": false,
    "ExecuteTime": {
     "end_time": "2024-04-08T12:46:03.014900Z",
     "start_time": "2024-04-08T12:46:02.497979Z"
    }
   },
   "id": "ac40f4f2033b221c",
   "execution_count": 95
  },
  {
   "cell_type": "code",
   "outputs": [
    {
     "data": {
      "text/plain": "((60000, 3), (10000, 3))"
     },
     "execution_count": 96,
     "metadata": {},
     "output_type": "execute_result"
    }
   ],
   "source": [
    "df_train = df[df.split == 'train'].sample(frac=1)\n",
    "df_test = df[df.split == 'test'].sample(frac=1)\n",
    "\n",
    "df_train.shape, df_test.shape\n"
   ],
   "metadata": {
    "collapsed": false,
    "ExecuteTime": {
     "end_time": "2024-04-08T12:46:05.713002Z",
     "start_time": "2024-04-08T12:46:05.694112Z"
    }
   },
   "id": "956c8ea6ec0de0db",
   "execution_count": 96
  },
  {
   "cell_type": "code",
   "outputs": [
    {
     "name": "stdout",
     "output_type": "stream",
     "text": [
      "INIT\n",
      "SQUARE  1\n",
      "Get elelemnt -> 1\n",
      "A\n",
      "SQUARE  2\n",
      "Get elelemnt -> 4\n",
      "B\n",
      "SQUARE  3\n",
      "Get elelemnt -> 9\n",
      "C\n"
     ]
    }
   ],
   "source": [
    "# def my_gen():\n",
    "#     print('INIT')\n",
    "#     yield 1\n",
    "#     print('A')\n",
    "#     yield 2\n",
    "#     print('B')\n",
    "#     yield 3\n",
    "#     print('C')\n",
    "#     \n",
    "#     \n",
    "# def my_processing(numbers):\n",
    "#     for x in numbers:\n",
    "#         print('SQUARE ', x)\n",
    "#         yield x**2\n",
    "#     \n",
    "# g = my_gen()\n",
    "# g2 = my_processing(g)\n",
    "# \n",
    "# for x in g2:\n",
    "#     print('Get elelemnt ->', x)\n",
    "    \n",
    "    "
   ],
   "metadata": {
    "collapsed": false,
    "ExecuteTime": {
     "end_time": "2024-04-08T12:18:38.651374Z",
     "start_time": "2024-04-08T12:18:38.647843Z"
    }
   },
   "id": "1adea17a5ff404d6",
   "execution_count": 19
  },
  {
   "cell_type": "code",
   "outputs": [
    {
     "name": "stdout",
     "output_type": "stream",
     "text": [
      "tf.Tensor(1, shape=(), dtype=int32)\n",
      "tf.Tensor(2, shape=(), dtype=int32)\n",
      "tf.Tensor(3, shape=(), dtype=int32)\n",
      "tf.Tensor(4, shape=(), dtype=int32)\n"
     ]
    }
   ],
   "source": [
    "# samples = [1,2,3,4]\n",
    "# \n",
    "# ds = tf.data.Dataset.from_tensor_slices(samples)\n",
    "# ds\n",
    "# \n",
    "# for i in ds:\n",
    "#     print(i)"
   ],
   "metadata": {
    "collapsed": false,
    "ExecuteTime": {
     "end_time": "2024-04-08T12:32:01.465920Z",
     "start_time": "2024-04-08T12:32:01.448538Z"
    }
   },
   "id": "df027654c903a2ed",
   "execution_count": 56
  },
  {
   "cell_type": "code",
   "outputs": [
    {
     "data": {
      "text/plain": "<_BatchDataset element_spec=(TensorSpec(shape=(32, 784), dtype=tf.float32, name=None), TensorSpec(shape=(32,), dtype=tf.int64, name=None))>"
     },
     "execution_count": 137,
     "metadata": {},
     "output_type": "execute_result"
    }
   ],
   "source": [
    "def make_dataset(df_to_use, flatten=True):\n",
    "    str_path = df_to_use.path.apply(str)\n",
    "\n",
    "    ds_x = tf.data.Dataset.from_tensor_slices(str_path)\n",
    "    ds_x = ds_x.map(lambda x: tf.io.read_file(x))\n",
    "    ds_x = ds_x.map(lambda x: tf.image.decode_png(x))\n",
    "    ds_x = ds_x.map(lambda x: x / 255)\n",
    "    if flatten:\n",
    "        ds_x = ds_x.map(lambda x: tf.reshape(x, (784,)))\n",
    "    else:\n",
    "        ds_x = ds_x.map(lambda x: tf.reshape(x, (28,28,1)))\n",
    "\n",
    "    ds_y = tf.data.Dataset.from_tensor_slices(df_to_use.label)\n",
    "    # ds_y = ds_y.map(lambda x: tf.one_hot(x, depth=10))\n",
    "\n",
    "    ds = tf.data.Dataset.zip((ds_x, ds_y))\n",
    "    \n",
    "    ds = ds.batch(32, drop_remainder=True)\n",
    "    \n",
    "    return ds\n",
    "\n",
    "\n",
    "train_ds = make_dataset(df_train)\n",
    "test_ds = make_dataset(df_test)\n",
    "\n",
    "# for sample in train_ds:\n",
    "\n",
    "train_ds"
   ],
   "metadata": {
    "collapsed": false,
    "ExecuteTime": {
     "end_time": "2024-04-08T13:05:54.621983Z",
     "start_time": "2024-04-08T13:05:54.515567Z"
    }
   },
   "id": "63b6bf47a910a721",
   "execution_count": 137
  },
  {
   "cell_type": "code",
   "outputs": [
    {
     "data": {
      "text/plain": "<Figure size 1000x400 with 6 Axes>",
      "image/png": "[encoded data removed]"
     },
     "metadata": {},
     "output_type": "display_data"
    }
   ],
   "source": [
    "fig, ax = plt.subplots(ncols=6, nrows=1, figsize=(10,4))\n",
    "\n",
    "i = 0\n",
    "for sample in train_ds.take(6):\n",
    "    img, label = sample\n",
    "    ax[i].matshow(img)\n",
    "    ax[i].set_title(label.numpy())\n",
    "    i += 1\n"
   ],
   "metadata": {
    "collapsed": false,
    "ExecuteTime": {
     "end_time": "2024-04-08T12:55:12.321386Z",
     "start_time": "2024-04-08T12:55:11.503189Z"
    }
   },
   "id": "906250c846fcb714",
   "execution_count": 108
  },
  {
   "cell_type": "code",
   "outputs": [
    {
     "data": {
      "text/plain": "<Figure size 1000x400 with 6 Axes>",
      "image/png": "[encoded data removed]"
     },
     "metadata": {},
     "output_type": "display_data"
    }
   ],
   "source": [
    "fig, ax = plt.subplots(ncols=6, nrows=1, figsize=(10,4))\n",
    "\n",
    "i = 0\n",
    "for sample in test_ds.take(6):\n",
    "    img, label = sample\n",
    "    ax[i].matshow(img)\n",
    "    ax[i].set_title(label.numpy())\n",
    "    i += 1\n"
   ],
   "metadata": {
    "collapsed": false,
    "ExecuteTime": {
     "end_time": "2024-04-08T12:55:15.871140Z",
     "start_time": "2024-04-08T12:55:14.607075Z"
    }
   },
   "id": "6ed06bfa1f1be1b8",
   "execution_count": 109
  },
  {
   "cell_type": "markdown",
   "source": [
    "\n",
    "# Model"
   ],
   "metadata": {
    "collapsed": false
   },
   "id": "6971bb3a6a3e495a"
  },
  {
   "cell_type": "markdown",
   "source": [
    "# FC"
   ],
   "metadata": {
    "collapsed": false
   },
   "id": "cee150b37ea396c8"
  },
  {
   "cell_type": "code",
   "outputs": [
    {
     "name": "stdout",
     "output_type": "stream",
     "text": [
      "Epoch 1/2\n",
      "1875/1875 [==============================] - 5s 3ms/step - loss: 0.3520 - accuracy: 0.8978 - val_loss: 0.2173 - val_accuracy: 0.9365\n",
      "Epoch 2/2\n",
      "1875/1875 [==============================] - 4s 2ms/step - loss: 0.1821 - accuracy: 0.9458 - val_loss: 0.1751 - val_accuracy: 0.9460\n"
     ]
    },
    {
     "data": {
      "text/plain": "<keras.src.callbacks.History at 0x7fef6839fac0>"
     },
     "execution_count": 130,
     "metadata": {},
     "output_type": "execute_result"
    }
   ],
   "source": [
    "model = tf.keras.models.Sequential([\n",
    "    tf.keras.layers.Dense(32, input_shape=(28*28,), activation='relu'),\n",
    "    tf.keras.layers.Dense(32, activation='relu'),\n",
    "    tf.keras.layers.Dense(10, activation='softmax')\n",
    "])\n",
    "\n",
    "model.compile(optimizer='adam', loss='sparse_categorical_crossentropy', metrics=['accuracy'])\n",
    "\n",
    "model.fit(train_ds, validation_data=test_ds, epochs=2)"
   ],
   "metadata": {
    "collapsed": false,
    "ExecuteTime": {
     "end_time": "2024-04-08T13:00:31.826602Z",
     "start_time": "2024-04-08T13:00:21.991098Z"
    }
   },
   "id": "e9335c23262421f",
   "execution_count": 130
  },
  {
   "cell_type": "code",
   "outputs": [
    {
     "data": {
      "text/plain": "TensorShape([32])"
     },
     "execution_count": 129,
     "metadata": {},
     "output_type": "execute_result"
    }
   ],
   "source": [
    "sample = next(iter(train_ds))\n",
    "sample[1].shape\n"
   ],
   "metadata": {
    "collapsed": false,
    "ExecuteTime": {
     "end_time": "2024-04-08T13:00:16.378708Z",
     "start_time": "2024-04-08T13:00:16.364063Z"
    }
   },
   "id": "c11ee844bcc5e397",
   "execution_count": 129
  },
  {
   "cell_type": "markdown",
   "source": [
    "# CNN"
   ],
   "metadata": {
    "collapsed": false
   },
   "id": "d4f46c9a4ba56b65"
  },
  {
   "cell_type": "code",
   "outputs": [],
   "source": [
    "model = tf.keras.models.Sequential([\n",
    "    tf.keras.layers.Conv2D(16, (3, 3), activation='relu'),\n",
    "    tf.keras.layers.Conv2D(16, (3, 3), activation='relu'),\n",
    "    tf.keras.layers.MaxPool2D((2,2)),\n",
    "    tf.keras.layers.Conv2D(32, (3, 3), activation='relu'),\n",
    "    tf.keras.layers.Conv2D(32, (3, 3), activation='relu'),\n",
    "    \n",
    "    tf.keras.layers.Flatten(),\n",
    "    \n",
    "    tf.keras.layers.Dense(128, activation='relu'),\n",
    "    tf.keras.layers.Dense(10, activation='softmax'),\n",
    "])\n",
    "\n"
   ],
   "metadata": {
    "collapsed": false,
    "ExecuteTime": {
     "end_time": "2024-04-08T13:03:24.102709Z",
     "start_time": "2024-04-08T13:03:24.092020Z"
    }
   },
   "id": "2064766e53166557",
   "execution_count": 131
  },
  {
   "cell_type": "code",
   "outputs": [],
   "source": [
    "model.save('./model.keras')"
   ],
   "metadata": {
    "collapsed": false,
    "ExecuteTime": {
     "end_time": "2024-04-08T13:15:11.897857Z",
     "start_time": "2024-04-08T13:15:11.851401Z"
    }
   },
   "id": "340a4d1afa366520",
   "execution_count": 142
  },
  {
   "cell_type": "code",
   "outputs": [
    {
     "ename": "ValueError",
     "evalue": "Input 0 of layer \"conv2d\" is incompatible with the layer: expected min_ndim=4, found ndim=2. Full shape received: (32, 784)",
     "output_type": "error",
     "traceback": [
      "\u001B[0;31m---------------------------------------------------------------------------\u001B[0m",
      "\u001B[0;31mValueError\u001B[0m                                Traceback (most recent call last)",
      "Cell \u001B[0;32mIn[143], line 1\u001B[0m\n\u001B[0;32m----> 1\u001B[0m model_new \u001B[38;5;241m=\u001B[39m \u001B[43mtf\u001B[49m\u001B[38;5;241;43m.\u001B[39;49m\u001B[43mkeras\u001B[49m\u001B[38;5;241;43m.\u001B[39;49m\u001B[43mmodels\u001B[49m\u001B[38;5;241;43m.\u001B[39;49m\u001B[43mload_model\u001B[49m\u001B[43m(\u001B[49m\u001B[38;5;124;43m'\u001B[39;49m\u001B[38;5;124;43m./model.keras\u001B[39;49m\u001B[38;5;124;43m'\u001B[39;49m\u001B[43m)\u001B[49m\n",
      "File \u001B[0;32m~/Work/MlCourse/MLCourse/.venv/lib/python3.9/site-packages/keras/src/saving/saving_api.py:254\u001B[0m, in \u001B[0;36mload_model\u001B[0;34m(filepath, custom_objects, compile, safe_mode, **kwargs)\u001B[0m\n\u001B[1;32m    249\u001B[0m     \u001B[38;5;28;01mif\u001B[39;00m kwargs:\n\u001B[1;32m    250\u001B[0m         \u001B[38;5;28;01mraise\u001B[39;00m \u001B[38;5;167;01mValueError\u001B[39;00m(\n\u001B[1;32m    251\u001B[0m             \u001B[38;5;124m\"\u001B[39m\u001B[38;5;124mThe following argument(s) are not supported \u001B[39m\u001B[38;5;124m\"\u001B[39m\n\u001B[1;32m    252\u001B[0m             \u001B[38;5;124mf\u001B[39m\u001B[38;5;124m\"\u001B[39m\u001B[38;5;124mwith the native Keras format: \u001B[39m\u001B[38;5;132;01m{\u001B[39;00m\u001B[38;5;28mlist\u001B[39m(kwargs\u001B[38;5;241m.\u001B[39mkeys())\u001B[38;5;132;01m}\u001B[39;00m\u001B[38;5;124m\"\u001B[39m\n\u001B[1;32m    253\u001B[0m         )\n\u001B[0;32m--> 254\u001B[0m     \u001B[38;5;28;01mreturn\u001B[39;00m \u001B[43msaving_lib\u001B[49m\u001B[38;5;241;43m.\u001B[39;49m\u001B[43mload_model\u001B[49m\u001B[43m(\u001B[49m\n\u001B[1;32m    255\u001B[0m \u001B[43m        \u001B[49m\u001B[43mfilepath\u001B[49m\u001B[43m,\u001B[49m\n\u001B[1;32m    256\u001B[0m \u001B[43m        \u001B[49m\u001B[43mcustom_objects\u001B[49m\u001B[38;5;241;43m=\u001B[39;49m\u001B[43mcustom_objects\u001B[49m\u001B[43m,\u001B[49m\n\u001B[1;32m    257\u001B[0m \u001B[43m        \u001B[49m\u001B[38;5;28;43mcompile\u001B[39;49m\u001B[38;5;241;43m=\u001B[39;49m\u001B[38;5;28;43mcompile\u001B[39;49m\u001B[43m,\u001B[49m\n\u001B[1;32m    258\u001B[0m \u001B[43m        \u001B[49m\u001B[43msafe_mode\u001B[49m\u001B[38;5;241;43m=\u001B[39;49m\u001B[43msafe_mode\u001B[49m\u001B[43m,\u001B[49m\n\u001B[1;32m    259\u001B[0m \u001B[43m    \u001B[49m\u001B[43m)\u001B[49m\n\u001B[1;32m    261\u001B[0m \u001B[38;5;66;03m# Legacy case.\u001B[39;00m\n\u001B[1;32m    262\u001B[0m \u001B[38;5;28;01mreturn\u001B[39;00m legacy_sm_saving_lib\u001B[38;5;241m.\u001B[39mload_model(\n\u001B[1;32m    263\u001B[0m     filepath, custom_objects\u001B[38;5;241m=\u001B[39mcustom_objects, \u001B[38;5;28mcompile\u001B[39m\u001B[38;5;241m=\u001B[39m\u001B[38;5;28mcompile\u001B[39m, \u001B[38;5;241m*\u001B[39m\u001B[38;5;241m*\u001B[39mkwargs\n\u001B[1;32m    264\u001B[0m )\n",
      "File \u001B[0;32m~/Work/MlCourse/MLCourse/.venv/lib/python3.9/site-packages/keras/src/saving/saving_lib.py:281\u001B[0m, in \u001B[0;36mload_model\u001B[0;34m(filepath, custom_objects, compile, safe_mode)\u001B[0m\n\u001B[1;32m    278\u001B[0m             asset_store\u001B[38;5;241m.\u001B[39mclose()\n\u001B[1;32m    280\u001B[0m \u001B[38;5;28;01mexcept\u001B[39;00m \u001B[38;5;167;01mException\u001B[39;00m \u001B[38;5;28;01mas\u001B[39;00m e:\n\u001B[0;32m--> 281\u001B[0m     \u001B[38;5;28;01mraise\u001B[39;00m e\n\u001B[1;32m    282\u001B[0m \u001B[38;5;28;01melse\u001B[39;00m:\n\u001B[1;32m    283\u001B[0m     \u001B[38;5;28;01mreturn\u001B[39;00m model\n",
      "File \u001B[0;32m~/Work/MlCourse/MLCourse/.venv/lib/python3.9/site-packages/keras/src/saving/saving_lib.py:246\u001B[0m, in \u001B[0;36mload_model\u001B[0;34m(filepath, custom_objects, compile, safe_mode)\u001B[0m\n\u001B[1;32m    244\u001B[0m \u001B[38;5;66;03m# Construct the model from the configuration file in the archive.\u001B[39;00m\n\u001B[1;32m    245\u001B[0m \u001B[38;5;28;01mwith\u001B[39;00m ObjectSharingScope():\n\u001B[0;32m--> 246\u001B[0m     model \u001B[38;5;241m=\u001B[39m \u001B[43mdeserialize_keras_object\u001B[49m\u001B[43m(\u001B[49m\n\u001B[1;32m    247\u001B[0m \u001B[43m        \u001B[49m\u001B[43mconfig_dict\u001B[49m\u001B[43m,\u001B[49m\u001B[43m \u001B[49m\u001B[43mcustom_objects\u001B[49m\u001B[43m,\u001B[49m\u001B[43m \u001B[49m\u001B[43msafe_mode\u001B[49m\u001B[38;5;241;43m=\u001B[39;49m\u001B[43msafe_mode\u001B[49m\n\u001B[1;32m    248\u001B[0m \u001B[43m    \u001B[49m\u001B[43m)\u001B[49m\n\u001B[1;32m    250\u001B[0m all_filenames \u001B[38;5;241m=\u001B[39m zf\u001B[38;5;241m.\u001B[39mnamelist()\n\u001B[1;32m    251\u001B[0m \u001B[38;5;28;01mif\u001B[39;00m _VARS_FNAME \u001B[38;5;241m+\u001B[39m \u001B[38;5;124m\"\u001B[39m\u001B[38;5;124m.h5\u001B[39m\u001B[38;5;124m\"\u001B[39m \u001B[38;5;129;01min\u001B[39;00m all_filenames:\n",
      "File \u001B[0;32m~/Work/MlCourse/MLCourse/.venv/lib/python3.9/site-packages/keras/src/saving/serialization_lib.py:728\u001B[0m, in \u001B[0;36mdeserialize_keras_object\u001B[0;34m(config, custom_objects, safe_mode, **kwargs)\u001B[0m\n\u001B[1;32m    726\u001B[0m safe_mode_scope \u001B[38;5;241m=\u001B[39m SafeModeScope(safe_mode)\n\u001B[1;32m    727\u001B[0m \u001B[38;5;28;01mwith\u001B[39;00m custom_obj_scope, safe_mode_scope:\n\u001B[0;32m--> 728\u001B[0m     instance \u001B[38;5;241m=\u001B[39m \u001B[38;5;28;43mcls\u001B[39;49m\u001B[38;5;241;43m.\u001B[39;49m\u001B[43mfrom_config\u001B[49m\u001B[43m(\u001B[49m\u001B[43minner_config\u001B[49m\u001B[43m)\u001B[49m\n\u001B[1;32m    729\u001B[0m     build_config \u001B[38;5;241m=\u001B[39m config\u001B[38;5;241m.\u001B[39mget(\u001B[38;5;124m\"\u001B[39m\u001B[38;5;124mbuild_config\u001B[39m\u001B[38;5;124m\"\u001B[39m, \u001B[38;5;28;01mNone\u001B[39;00m)\n\u001B[1;32m    730\u001B[0m     \u001B[38;5;28;01mif\u001B[39;00m build_config:\n",
      "File \u001B[0;32m~/Work/MlCourse/MLCourse/.venv/lib/python3.9/site-packages/keras/src/engine/sequential.py:478\u001B[0m, in \u001B[0;36mSequential.from_config\u001B[0;34m(cls, config, custom_objects)\u001B[0m\n\u001B[1;32m    471\u001B[0m     model\u001B[38;5;241m.\u001B[39madd(layer)\n\u001B[1;32m    473\u001B[0m \u001B[38;5;28;01mif\u001B[39;00m (\n\u001B[1;32m    474\u001B[0m     \u001B[38;5;129;01mnot\u001B[39;00m model\u001B[38;5;241m.\u001B[39minputs\n\u001B[1;32m    475\u001B[0m     \u001B[38;5;129;01mand\u001B[39;00m build_input_shape\n\u001B[1;32m    476\u001B[0m     \u001B[38;5;129;01mand\u001B[39;00m \u001B[38;5;28misinstance\u001B[39m(build_input_shape, (\u001B[38;5;28mtuple\u001B[39m, \u001B[38;5;28mlist\u001B[39m))\n\u001B[1;32m    477\u001B[0m ):\n\u001B[0;32m--> 478\u001B[0m     \u001B[43mmodel\u001B[49m\u001B[38;5;241;43m.\u001B[39;49m\u001B[43mbuild\u001B[49m\u001B[43m(\u001B[49m\u001B[43mbuild_input_shape\u001B[49m\u001B[43m)\u001B[49m\n\u001B[1;32m    480\u001B[0m \u001B[38;5;28;01mreturn\u001B[39;00m model\n",
      "File \u001B[0;32m~/Work/MlCourse/MLCourse/.venv/lib/python3.9/site-packages/keras/src/engine/sequential.py:376\u001B[0m, in \u001B[0;36mSequential.build\u001B[0;34m(self, input_shape)\u001B[0m\n\u001B[1;32m    374\u001B[0m         input_shape \u001B[38;5;241m=\u001B[39m \u001B[38;5;28mtuple\u001B[39m(input_shape)\n\u001B[1;32m    375\u001B[0m         \u001B[38;5;28mself\u001B[39m\u001B[38;5;241m.\u001B[39m_build_input_shape \u001B[38;5;241m=\u001B[39m input_shape\n\u001B[0;32m--> 376\u001B[0m         \u001B[38;5;28;43msuper\u001B[39;49m\u001B[43m(\u001B[49m\u001B[43m)\u001B[49m\u001B[38;5;241;43m.\u001B[39;49m\u001B[43mbuild\u001B[49m\u001B[43m(\u001B[49m\u001B[43minput_shape\u001B[49m\u001B[43m)\u001B[49m\n\u001B[1;32m    377\u001B[0m \u001B[38;5;28mself\u001B[39m\u001B[38;5;241m.\u001B[39mbuilt \u001B[38;5;241m=\u001B[39m \u001B[38;5;28;01mTrue\u001B[39;00m\n",
      "File \u001B[0;32m~/Work/MlCourse/MLCourse/.venv/lib/python3.9/site-packages/keras/src/engine/training.py:542\u001B[0m, in \u001B[0;36mModel.build\u001B[0;34m(self, input_shape)\u001B[0m\n\u001B[1;32m    537\u001B[0m     \u001B[38;5;28;01mraise\u001B[39;00m \u001B[38;5;167;01mValueError\u001B[39;00m(\n\u001B[1;32m    538\u001B[0m         \u001B[38;5;124m\"\u001B[39m\u001B[38;5;124mYou can only call `build()` on a model if its \u001B[39m\u001B[38;5;124m\"\u001B[39m\n\u001B[1;32m    539\u001B[0m         \u001B[38;5;124m\"\u001B[39m\u001B[38;5;124m`call()` method accepts an `inputs` argument.\u001B[39m\u001B[38;5;124m\"\u001B[39m\n\u001B[1;32m    540\u001B[0m     )\n\u001B[1;32m    541\u001B[0m \u001B[38;5;28;01mtry\u001B[39;00m:\n\u001B[0;32m--> 542\u001B[0m     \u001B[38;5;28;43mself\u001B[39;49m\u001B[38;5;241;43m.\u001B[39;49m\u001B[43mcall\u001B[49m\u001B[43m(\u001B[49m\u001B[43mx\u001B[49m\u001B[43m,\u001B[49m\u001B[43m \u001B[49m\u001B[38;5;241;43m*\u001B[39;49m\u001B[38;5;241;43m*\u001B[39;49m\u001B[43mkwargs\u001B[49m\u001B[43m)\u001B[49m\n\u001B[1;32m    543\u001B[0m \u001B[38;5;28;01mexcept\u001B[39;00m (tf\u001B[38;5;241m.\u001B[39merrors\u001B[38;5;241m.\u001B[39mInvalidArgumentError, \u001B[38;5;167;01mTypeError\u001B[39;00m) \u001B[38;5;28;01mas\u001B[39;00m e:\n\u001B[1;32m    544\u001B[0m     \u001B[38;5;28;01mraise\u001B[39;00m \u001B[38;5;167;01mValueError\u001B[39;00m(\n\u001B[1;32m    545\u001B[0m         \u001B[38;5;124m\"\u001B[39m\u001B[38;5;124mYou cannot build your model by calling `build` \u001B[39m\u001B[38;5;124m\"\u001B[39m\n\u001B[1;32m    546\u001B[0m         \u001B[38;5;124m\"\u001B[39m\u001B[38;5;124mif your layers do not support float type inputs. \u001B[39m\u001B[38;5;124m\"\u001B[39m\n\u001B[0;32m   (...)\u001B[0m\n\u001B[1;32m    550\u001B[0m         \u001B[38;5;124mf\u001B[39m\u001B[38;5;124m\"\u001B[39m\u001B[38;5;124m`call` is: \u001B[39m\u001B[38;5;132;01m{\u001B[39;00me\u001B[38;5;132;01m}\u001B[39;00m\u001B[38;5;124m.\u001B[39m\u001B[38;5;124m\"\u001B[39m\n\u001B[1;32m    551\u001B[0m     )\n",
      "File \u001B[0;32m~/Work/MlCourse/MLCourse/.venv/lib/python3.9/site-packages/keras/src/engine/sequential.py:413\u001B[0m, in \u001B[0;36mSequential.call\u001B[0;34m(self, inputs, training, mask)\u001B[0m\n\u001B[1;32m    410\u001B[0m \u001B[38;5;28;01mif\u001B[39;00m \u001B[38;5;124m\"\u001B[39m\u001B[38;5;124mtraining\u001B[39m\u001B[38;5;124m\"\u001B[39m \u001B[38;5;129;01min\u001B[39;00m argspec:\n\u001B[1;32m    411\u001B[0m     kwargs[\u001B[38;5;124m\"\u001B[39m\u001B[38;5;124mtraining\u001B[39m\u001B[38;5;124m\"\u001B[39m] \u001B[38;5;241m=\u001B[39m training\n\u001B[0;32m--> 413\u001B[0m outputs \u001B[38;5;241m=\u001B[39m \u001B[43mlayer\u001B[49m\u001B[43m(\u001B[49m\u001B[43minputs\u001B[49m\u001B[43m,\u001B[49m\u001B[43m \u001B[49m\u001B[38;5;241;43m*\u001B[39;49m\u001B[38;5;241;43m*\u001B[39;49m\u001B[43mkwargs\u001B[49m\u001B[43m)\u001B[49m\n\u001B[1;32m    415\u001B[0m inputs \u001B[38;5;241m=\u001B[39m outputs\n\u001B[1;32m    417\u001B[0m \u001B[38;5;28;01mdef\u001B[39;00m \u001B[38;5;21m_get_mask_from_keras_tensor\u001B[39m(kt):\n",
      "File \u001B[0;32m~/Work/MlCourse/MLCourse/.venv/lib/python3.9/site-packages/keras/src/utils/traceback_utils.py:70\u001B[0m, in \u001B[0;36mfilter_traceback.<locals>.error_handler\u001B[0;34m(*args, **kwargs)\u001B[0m\n\u001B[1;32m     67\u001B[0m     filtered_tb \u001B[38;5;241m=\u001B[39m _process_traceback_frames(e\u001B[38;5;241m.\u001B[39m__traceback__)\n\u001B[1;32m     68\u001B[0m     \u001B[38;5;66;03m# To get the full stack trace, call:\u001B[39;00m\n\u001B[1;32m     69\u001B[0m     \u001B[38;5;66;03m# `tf.debugging.disable_traceback_filtering()`\u001B[39;00m\n\u001B[0;32m---> 70\u001B[0m     \u001B[38;5;28;01mraise\u001B[39;00m e\u001B[38;5;241m.\u001B[39mwith_traceback(filtered_tb) \u001B[38;5;28;01mfrom\u001B[39;00m \u001B[38;5;28;01mNone\u001B[39;00m\n\u001B[1;32m     71\u001B[0m \u001B[38;5;28;01mfinally\u001B[39;00m:\n\u001B[1;32m     72\u001B[0m     \u001B[38;5;28;01mdel\u001B[39;00m filtered_tb\n",
      "File \u001B[0;32m~/Work/MlCourse/MLCourse/.venv/lib/python3.9/site-packages/keras/src/engine/input_spec.py:253\u001B[0m, in \u001B[0;36massert_input_compatibility\u001B[0;34m(input_spec, inputs, layer_name)\u001B[0m\n\u001B[1;32m    251\u001B[0m     ndim \u001B[38;5;241m=\u001B[39m x\u001B[38;5;241m.\u001B[39mshape\u001B[38;5;241m.\u001B[39mrank\n\u001B[1;32m    252\u001B[0m     \u001B[38;5;28;01mif\u001B[39;00m ndim \u001B[38;5;129;01mis\u001B[39;00m \u001B[38;5;129;01mnot\u001B[39;00m \u001B[38;5;28;01mNone\u001B[39;00m \u001B[38;5;129;01mand\u001B[39;00m ndim \u001B[38;5;241m<\u001B[39m spec\u001B[38;5;241m.\u001B[39mmin_ndim:\n\u001B[0;32m--> 253\u001B[0m         \u001B[38;5;28;01mraise\u001B[39;00m \u001B[38;5;167;01mValueError\u001B[39;00m(\n\u001B[1;32m    254\u001B[0m             \u001B[38;5;124mf\u001B[39m\u001B[38;5;124m'\u001B[39m\u001B[38;5;124mInput \u001B[39m\u001B[38;5;132;01m{\u001B[39;00minput_index\u001B[38;5;132;01m}\u001B[39;00m\u001B[38;5;124m of layer \u001B[39m\u001B[38;5;124m\"\u001B[39m\u001B[38;5;132;01m{\u001B[39;00mlayer_name\u001B[38;5;132;01m}\u001B[39;00m\u001B[38;5;124m\"\u001B[39m\u001B[38;5;124m \u001B[39m\u001B[38;5;124m'\u001B[39m\n\u001B[1;32m    255\u001B[0m             \u001B[38;5;124m\"\u001B[39m\u001B[38;5;124mis incompatible with the layer: \u001B[39m\u001B[38;5;124m\"\u001B[39m\n\u001B[1;32m    256\u001B[0m             \u001B[38;5;124mf\u001B[39m\u001B[38;5;124m\"\u001B[39m\u001B[38;5;124mexpected min_ndim=\u001B[39m\u001B[38;5;132;01m{\u001B[39;00mspec\u001B[38;5;241m.\u001B[39mmin_ndim\u001B[38;5;132;01m}\u001B[39;00m\u001B[38;5;124m, \u001B[39m\u001B[38;5;124m\"\u001B[39m\n\u001B[1;32m    257\u001B[0m             \u001B[38;5;124mf\u001B[39m\u001B[38;5;124m\"\u001B[39m\u001B[38;5;124mfound ndim=\u001B[39m\u001B[38;5;132;01m{\u001B[39;00mndim\u001B[38;5;132;01m}\u001B[39;00m\u001B[38;5;124m. \u001B[39m\u001B[38;5;124m\"\u001B[39m\n\u001B[1;32m    258\u001B[0m             \u001B[38;5;124mf\u001B[39m\u001B[38;5;124m\"\u001B[39m\u001B[38;5;124mFull shape received: \u001B[39m\u001B[38;5;132;01m{\u001B[39;00m\u001B[38;5;28mtuple\u001B[39m(shape)\u001B[38;5;132;01m}\u001B[39;00m\u001B[38;5;124m\"\u001B[39m\n\u001B[1;32m    259\u001B[0m         )\n\u001B[1;32m    260\u001B[0m \u001B[38;5;66;03m# Check dtype.\u001B[39;00m\n\u001B[1;32m    261\u001B[0m \u001B[38;5;28;01mif\u001B[39;00m spec\u001B[38;5;241m.\u001B[39mdtype \u001B[38;5;129;01mis\u001B[39;00m \u001B[38;5;129;01mnot\u001B[39;00m \u001B[38;5;28;01mNone\u001B[39;00m:\n",
      "\u001B[0;31mValueError\u001B[0m: Input 0 of layer \"conv2d\" is incompatible with the layer: expected min_ndim=4, found ndim=2. Full shape received: (32, 784)"
     ]
    }
   ],
   "source": [
    "model_new = tf.keras.models.load_model('./model.keras')"
   ],
   "metadata": {
    "collapsed": false,
    "ExecuteTime": {
     "end_time": "2024-04-08T13:15:24.823522Z",
     "start_time": "2024-04-08T13:15:24.194572Z"
    }
   },
   "id": "65f4bdbef0a96c74",
   "execution_count": 143
  },
  {
   "cell_type": "code",
   "outputs": [
    {
     "data": {
      "text/plain": "<_BatchDataset element_spec=(TensorSpec(shape=(32, 28, 28, 1), dtype=tf.float32, name=None), TensorSpec(shape=(32,), dtype=tf.int64, name=None))>"
     },
     "execution_count": 138,
     "metadata": {},
     "output_type": "execute_result"
    }
   ],
   "source": [
    "\n",
    "train_ds_2d = make_dataset(df_train, flatten=False)\n",
    "test_ds_2d = make_dataset(df_test, flatten=False)\n",
    "train_ds_2d\n"
   ],
   "metadata": {
    "collapsed": false,
    "ExecuteTime": {
     "end_time": "2024-04-08T13:06:04.681172Z",
     "start_time": "2024-04-08T13:06:04.553681Z"
    }
   },
   "id": "f2821dbd61150a6f",
   "execution_count": 138
  },
  {
   "cell_type": "code",
   "outputs": [
    {
     "name": "stdout",
     "output_type": "stream",
     "text": [
      "Epoch 1/2\n",
      "1875/1875 [==============================] - 22s 11ms/step - loss: 0.1277 - accuracy: 0.9592 - val_loss: 0.0601 - val_accuracy: 0.9815\n",
      "Epoch 2/2\n",
      "1875/1875 [==============================] - 20s 11ms/step - loss: 0.0426 - accuracy: 0.9869 - val_loss: 0.0415 - val_accuracy: 0.9865\n"
     ]
    },
    {
     "data": {
      "text/plain": "<keras.src.callbacks.History at 0x7fef4f3a65b0>"
     },
     "execution_count": 139,
     "metadata": {},
     "output_type": "execute_result"
    }
   ],
   "source": [
    "\n",
    "\n",
    "model.compile(optimizer='adam', loss='sparse_categorical_crossentropy', metrics=['accuracy'])\n",
    "\n",
    "model.fit(train_ds_2d, validation_data=test_ds_2d, epochs=2)\n",
    "\n",
    "\n"
   ],
   "metadata": {
    "collapsed": false,
    "ExecuteTime": {
     "end_time": "2024-04-08T13:06:51.039978Z",
     "start_time": "2024-04-08T13:06:08.260577Z"
    }
   },
   "id": "b559751b5b66841b",
   "execution_count": 139
  },
  {
   "cell_type": "code",
   "outputs": [
    {
     "name": "stdout",
     "output_type": "stream",
     "text": [
      "312/312 [==============================] - 1s 4ms/step - loss: 0.0415 - accuracy: 0.9865\n"
     ]
    },
    {
     "data": {
      "text/plain": "[0.04148859530687332, 0.9864783883094788]"
     },
     "execution_count": 140,
     "metadata": {},
     "output_type": "execute_result"
    }
   ],
   "source": [
    "model.evaluate(test_ds_2d)"
   ],
   "metadata": {
    "collapsed": false,
    "ExecuteTime": {
     "end_time": "2024-04-08T13:07:20.571579Z",
     "start_time": "2024-04-08T13:07:19.444511Z"
    }
   },
   "id": "96af1c36e730fb66",
   "execution_count": 140
  },
  {
   "cell_type": "code",
   "outputs": [
    {
     "name": "stdout",
     "output_type": "stream",
     "text": [
      "312/312 [==============================] - 2s 5ms/step\n"
     ]
    }
   ],
   "source": [
    "predictions = model.predict(test_ds_2d)"
   ],
   "metadata": {
    "collapsed": false,
    "ExecuteTime": {
     "end_time": "2024-04-08T13:07:41.784404Z",
     "start_time": "2024-04-08T13:07:40.078023Z"
    }
   },
   "id": "26b9fd9ab7e26666",
   "execution_count": 141
  }
 ],
 "metadata": {
  "kernelspec": {
   "display_name": "Python 3",
   "language": "python",
   "name": "python3"
  },
  "language_info": {
   "codemirror_mode": {
    "name": "ipython",
    "version": 2
   },
   "file_extension": ".py",
   "mimetype": "text/x-python",
   "name": "python",
   "nbconvert_exporter": "python",
   "pygments_lexer": "ipython2",
   "version": "2.7.6"
  }
 },
 "nbformat": 4,
 "nbformat_minor": 5
}
