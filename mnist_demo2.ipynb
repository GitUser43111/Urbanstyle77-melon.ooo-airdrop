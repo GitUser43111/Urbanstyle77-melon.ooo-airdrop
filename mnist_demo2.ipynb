{
 "cells": [
  {
   "cell_type": "code",
   "execution_count": 39,
   "id": "initial_id",
   "metadata": {
    "collapsed": true,
    "ExecuteTime": {
     "end_time": "2024-04-08T15:32:52.052891Z",
     "start_time": "2024-04-08T15:32:51.984788Z"
    }
   },
   "outputs": [],
   "source": [
    "import numpy as np\n",
    "import pandas as pd\n",
    "import seaborn as sns\n",
    "import matplotlib.pyplot as plt\n",
    "import tensorflow as tf\n",
    "from pathlib import *\n",
    "import pandas as pd\n",
    "import cv2\n",
    "\n",
    "sns.set_theme()"
   ]
  },
  {
   "cell_type": "code",
   "outputs": [
    {
     "name": "stdout",
     "output_type": "stream",
     "text": [
      "start\n",
      "SQUARE 1\n",
      "Get element ->  1\n",
      "**1\n",
      "SQUARE 2\n",
      "Get element ->  4\n",
      "**2\n",
      "SQUARE 3\n",
      "Get element ->  9\n",
      "**3\n",
      "SQUARE 4\n",
      "Get element ->  16\n"
     ]
    }
   ],
   "source": [
    "# def get_list():\n",
    "#     print('get list')\n",
    "#     return [1,2,3,4,5]\n",
    "# \n",
    "# def my_generator():\n",
    "#     print('start')\n",
    "#     yield 1\n",
    "#     print('**1')\n",
    "#     yield 2\n",
    "#     print('**2')\n",
    "#     yield 3\n",
    "#     print('**3')\n",
    "#     yield 4\n",
    "#     \n",
    "#     \n",
    "# def square(items):\n",
    "#     for i in items:\n",
    "#         s = i**2\n",
    "#         print('SQUARE', i)\n",
    "#         yield s\n",
    "# \n",
    "# \n",
    "# gen = my_generator()\n",
    "# square_gen = square(gen)\n",
    "# \n",
    "# for x in square_gen:\n",
    "#     print('Get element -> ', x)\n",
    "    # if x >= 2:\n",
    "    #     break"
   ],
   "metadata": {
    "collapsed": false
   },
   "id": "ce831ae5b99e1d44",
   "execution_count": 12
  },
  {
   "cell_type": "code",
   "outputs": [
    {
     "data": {
      "text/plain": "                              path  label  split\n15100  mnist_png/train/2/14517.png      2  train\n65732  mnist_png/train/1/58876.png      1  train\n1078     mnist_png/test/0/8172.png      0   test\n33271  mnist_png/train/4/12726.png      4  train\n46126  mnist_png/train/3/51534.png      3  train\n...                            ...    ...    ...\n38149  mnist_png/train/8/28381.png      8  train\n41338  mnist_png/train/7/38178.png      7  train\n63547   mnist_png/train/1/6617.png      1  train\n910      mnist_png/test/2/2625.png      2   test\n2430     mnist_png/test/6/5199.png      6   test\n\n[70000 rows x 3 columns]",
      "text/html": "<div>\n<style scoped>\n    .dataframe tbody tr th:only-of-type {\n        vertical-align: middle;\n    }\n\n    .dataframe tbody tr th {\n        vertical-align: top;\n    }\n\n    .dataframe thead th {\n        text-align: right;\n    }\n</style>\n<table border=\"1\" class=\"dataframe\">\n  <thead>\n    <tr style=\"text-align: right;\">\n      <th></th>\n      <th>path</th>\n      <th>label</th>\n      <th>split</th>\n    </tr>\n  </thead>\n  <tbody>\n    <tr>\n      <th>15100</th>\n      <td>mnist_png/train/2/14517.png</td>\n      <td>2</td>\n      <td>train</td>\n    </tr>\n    <tr>\n      <th>65732</th>\n      <td>mnist_png/train/1/58876.png</td>\n      <td>1</td>\n      <td>train</td>\n    </tr>\n    <tr>\n      <th>1078</th>\n      <td>mnist_png/test/0/8172.png</td>\n      <td>0</td>\n      <td>test</td>\n    </tr>\n    <tr>\n      <th>33271</th>\n      <td>mnist_png/train/4/12726.png</td>\n      <td>4</td>\n      <td>train</td>\n    </tr>\n    <tr>\n      <th>46126</th>\n      <td>mnist_png/train/3/51534.png</td>\n      <td>3</td>\n      <td>train</td>\n    </tr>\n    <tr>\n      <th>...</th>\n      <td>...</td>\n      <td>...</td>\n      <td>...</td>\n    </tr>\n    <tr>\n      <th>38149</th>\n      <td>mnist_png/train/8/28381.png</td>\n      <td>8</td>\n      <td>train</td>\n    </tr>\n    <tr>\n      <th>41338</th>\n      <td>mnist_png/train/7/38178.png</td>\n      <td>7</td>\n      <td>train</td>\n    </tr>\n    <tr>\n      <th>63547</th>\n      <td>mnist_png/train/1/6617.png</td>\n      <td>1</td>\n      <td>train</td>\n    </tr>\n    <tr>\n      <th>910</th>\n      <td>mnist_png/test/2/2625.png</td>\n      <td>2</td>\n      <td>test</td>\n    </tr>\n    <tr>\n      <th>2430</th>\n      <td>mnist_png/test/6/5199.png</td>\n      <td>6</td>\n      <td>test</td>\n    </tr>\n  </tbody>\n</table>\n<p>70000 rows × 3 columns</p>\n</div>"
     },
     "execution_count": 109,
     "metadata": {},
     "output_type": "execute_result"
    }
   ],
   "source": [
    "root_dataset = Path('./mnist_png')\n",
    "\n",
    "files = root_dataset.rglob('*.png')\n",
    "# files = (x for x in files if x.is_file())\n",
    "\n",
    "rows = []\n",
    "\n",
    "for f in files:\n",
    "    rows.append({\n",
    "        'path': str(f),\n",
    "        'label': int(f.parent.name),\n",
    "        'split': f.parent.parent.name\n",
    "    })\n",
    "    # break\n",
    "    \n",
    "df  = pd.DataFrame(rows)\n",
    "df = df.sample(frac=1)\n",
    "df"
   ],
   "metadata": {
    "collapsed": false,
    "ExecuteTime": {
     "end_time": "2024-04-08T16:06:50.494884Z",
     "start_time": "2024-04-08T16:06:49.157444Z"
    }
   },
   "id": "85dce9e3a425217a",
   "execution_count": 109
  },
  {
   "cell_type": "code",
   "outputs": [
    {
     "data": {
      "text/plain": "<Figure size 1000x400 with 6 Axes>",
      "image/png": "[encoded data removed]"
     },
     "metadata": {},
     "output_type": "display_data"
    }
   ],
   "source": [
    "fig, ax = plt.subplots(ncols=6, nrows=1, figsize=(10,4))\n",
    "\n",
    "\n",
    "for _ax, (idx, row) in zip(ax, df.sample(6).iterrows()):\n",
    "    img = cv2.imread(row.path)\n",
    "    _ax.imshow(img)\n",
    "    _ax.set_title(row.label)\n",
    "    \n",
    "    \n"
   ],
   "metadata": {
    "collapsed": false,
    "ExecuteTime": {
     "end_time": "2024-04-08T16:07:15.726116Z",
     "start_time": "2024-04-08T16:07:15.183296Z"
    }
   },
   "id": "7c544d88e2826529",
   "execution_count": 110
  },
  {
   "cell_type": "code",
   "outputs": [
    {
     "data": {
      "text/plain": "((60000, 3), (10000, 3))"
     },
     "execution_count": 111,
     "metadata": {},
     "output_type": "execute_result"
    }
   ],
   "source": [
    "train_df = df[df.split == 'train']\n",
    "test_df = df[df.split == 'test']\n",
    "\n",
    "train_df.shape, test_df.shape\n"
   ],
   "metadata": {
    "collapsed": false,
    "ExecuteTime": {
     "end_time": "2024-04-08T16:07:18.886455Z",
     "start_time": "2024-04-08T16:07:18.869184Z"
    }
   },
   "id": "61ab3e123e960f4b",
   "execution_count": 111
  },
  {
   "cell_type": "markdown",
   "source": [
    "# D A T A S E T"
   ],
   "metadata": {
    "collapsed": false
   },
   "id": "575c07a83c4e9854"
  },
  {
   "cell_type": "code",
   "outputs": [
    {
     "name": "stdout",
     "output_type": "stream",
     "text": [
      "tf.Tensor(1, shape=(), dtype=int32)\n",
      "tf.Tensor(4, shape=(), dtype=int32)\n",
      "tf.Tensor(9, shape=(), dtype=int32)\n",
      "tf.Tensor(16, shape=(), dtype=int32)\n",
      "tf.Tensor(25, shape=(), dtype=int32)\n",
      "tf.Tensor(36, shape=(), dtype=int32)\n"
     ]
    }
   ],
   "source": [
    "# lst = [1,2,3,4,5,6]\n",
    "# \n",
    "# ds = tf.data.Dataset.from_tensor_slices(lst)\n",
    "# ds = ds.map(lambda x: x**2)\n",
    "# ds\n",
    "# \n",
    "# for sample in ds:\n",
    "#     print(sample)"
   ],
   "metadata": {
    "collapsed": false,
    "ExecuteTime": {
     "end_time": "2024-04-08T15:44:36.385064Z",
     "start_time": "2024-04-08T15:44:36.328320Z"
    }
   },
   "id": "e45c04875592db8e",
   "execution_count": 63
  },
  {
   "cell_type": "code",
   "outputs": [
    {
     "data": {
      "text/plain": "<_BatchDataset element_spec=(TensorSpec(shape=(32, 784), dtype=tf.float32, name=None), TensorSpec(shape=(32,), dtype=tf.int64, name=None))>"
     },
     "execution_count": 118,
     "metadata": {},
     "output_type": "execute_result"
    }
   ],
   "source": [
    "def make_dataset(df_to_use, flatten=True, batch_size=None):\n",
    "    path_list = df_to_use.path\n",
    "\n",
    "    ds_x = tf.data.Dataset.from_tensor_slices(path_list)\n",
    "    ds_x = ds_x.map(lambda x: tf.io.read_file(x))\n",
    "    ds_x = ds_x.map(lambda x: tf.image.decode_png(x))\n",
    "    ds_x = ds_x.map(lambda x: x / 255)\n",
    "    \n",
    "    if flatten:\n",
    "        ds_x = ds_x.map(lambda x: tf.reshape(x, (784,)))\n",
    "    else:\n",
    "        ds_x = ds_x.map(lambda x: tf.reshape(x, (28, 28, 1)))\n",
    "        \n",
    "        \n",
    "        \n",
    "    ds_y = tf.data.Dataset.from_tensor_slices(df_to_use.label)\n",
    "\n",
    "    ds = tf.data.Dataset.zip((ds_x, ds_y))\n",
    "\n",
    "    if batch_size:\n",
    "        ds = ds.batch(batch_size, drop_remainder=True)\n",
    "    return ds\n",
    "\n",
    "\n",
    "train_ds = make_dataset(train_df, batch_size=32)\n",
    "test_ds = make_dataset(test_df, batch_size=32)\n",
    "train_ds\n",
    "\n",
    "# for sample in train_ds:\n",
    "#     img, label = sample\n",
    "#     print(img.shape, img.dtype)\n",
    "#     plt.imshow(img)\n",
    "#     plt.title(label)\n",
    "#     break\n",
    "# # ds\n"
   ],
   "metadata": {
    "collapsed": false,
    "ExecuteTime": {
     "end_time": "2024-04-08T16:12:10.812121Z",
     "start_time": "2024-04-08T16:12:10.689751Z"
    }
   },
   "id": "2f3c7f6485558a6c",
   "execution_count": 118
  },
  {
   "cell_type": "code",
   "outputs": [],
   "source": [
    "# sample = next(iter(test_ds))\n",
    "# imgs, labels = sample\n",
    "# imgs.shape"
   ],
   "metadata": {
    "collapsed": false,
    "ExecuteTime": {
     "end_time": "2024-04-08T16:05:44.147662Z",
     "start_time": "2024-04-08T16:05:44.145874Z"
    }
   },
   "id": "c378ce1b900c391a",
   "execution_count": 108
  },
  {
   "cell_type": "markdown",
   "source": [
    "# MODEL"
   ],
   "metadata": {
    "collapsed": false
   },
   "id": "d78b3ec183a9d1db"
  },
  {
   "cell_type": "code",
   "outputs": [
    {
     "name": "stdout",
     "output_type": "stream",
     "text": [
      "Epoch 1/2\n",
      "1875/1875 [==============================] - 8s 4ms/step - loss: 0.2500 - accuracy: 0.9250 - val_loss: 0.1403 - val_accuracy: 0.9561\n",
      "Epoch 2/2\n",
      "1875/1875 [==============================] - 7s 3ms/step - loss: 0.1042 - accuracy: 0.9678 - val_loss: 0.1131 - val_accuracy: 0.9618\n"
     ]
    },
    {
     "data": {
      "text/plain": "<keras.src.callbacks.History at 0x7f6bcee1e820>"
     },
     "execution_count": 113,
     "metadata": {},
     "output_type": "execute_result"
    }
   ],
   "source": [
    "model = tf.keras.Sequential([\n",
    "    tf.keras.layers.Dense(128, activation='relu', input_shape=(784,)),\n",
    "    tf.keras.layers.Dense(64, activation='relu'),\n",
    "    tf.keras.layers.Dense(32, activation='relu'),\n",
    "    tf.keras.layers.Dense(10, activation='softmax')\n",
    "])\n",
    "\n",
    "model.compile(optimizer='adam', loss='sparse_categorical_crossentropy', metrics=['accuracy'])\n",
    "\n",
    "model.fit(train_ds, validation_data=test_ds, epochs=2)"
   ],
   "metadata": {
    "collapsed": false,
    "ExecuteTime": {
     "end_time": "2024-04-08T16:07:41.704241Z",
     "start_time": "2024-04-08T16:07:26.866494Z"
    }
   },
   "id": "491d19fa1e0e1232",
   "execution_count": 113
  },
  {
   "cell_type": "code",
   "outputs": [
    {
     "name": "stdout",
     "output_type": "stream",
     "text": [
      "Epoch 1/2\n",
      "1875/1875 [==============================] - 21s 11ms/step - loss: 0.1398 - accuracy: 0.9576 - val_loss: 0.0513 - val_accuracy: 0.9848\n",
      "Epoch 2/2\n",
      "1875/1875 [==============================] - 20s 11ms/step - loss: 0.0452 - accuracy: 0.9858 - val_loss: 0.0335 - val_accuracy: 0.9883\n"
     ]
    },
    {
     "data": {
      "text/plain": "<keras.src.callbacks.History at 0x7f6c1ccb10a0>"
     },
     "execution_count": 120,
     "metadata": {},
     "output_type": "execute_result"
    }
   ],
   "source": [
    "model = tf.keras.Sequential([\n",
    "    tf.keras.layers.Conv2D(16, (3, 3), activation='relu'),\n",
    "    tf.keras.layers.Conv2D(16, (3, 3), activation='relu'),\n",
    "    tf.keras.layers.MaxPool2D(),\n",
    "    tf.keras.layers.Conv2D(32, (3, 3), activation='relu'),\n",
    "    tf.keras.layers.Conv2D(32, (3, 3), activation='relu'),\n",
    "    \n",
    "    tf.keras.layers.Flatten(),\n",
    "    \n",
    "    tf.keras.layers.Dense(64, activation='relu'),\n",
    "    tf.keras.layers.Dense(10, activation='softmax'),\n",
    "])\n",
    "\n",
    "\n",
    "train_ds_2d = make_dataset(train_df, batch_size=32, flatten=False)\n",
    "test_ds_2d = make_dataset(test_df, batch_size=32, flatten=False)\n",
    "# train_ds_2d\n",
    "\n",
    "model.compile(optimizer='adam', loss='sparse_categorical_crossentropy', metrics=['accuracy'])\n",
    "# \n",
    "model.fit(train_ds_2d, validation_data=test_ds_2d, epochs=2)"
   ],
   "metadata": {
    "collapsed": false,
    "ExecuteTime": {
     "end_time": "2024-04-08T16:13:05.965518Z",
     "start_time": "2024-04-08T16:12:24.758407Z"
    }
   },
   "id": "1e56aff09b5e8a1",
   "execution_count": 120
  },
  {
   "cell_type": "code",
   "outputs": [],
   "source": [
    "# tf.__version__"
   ],
   "metadata": {
    "collapsed": false,
    "ExecuteTime": {
     "end_time": "2024-04-09T07:18:56.647842Z",
     "start_time": "2024-04-09T07:18:56.645985Z"
    }
   },
   "id": "622097865742196c",
   "execution_count": 122
  }
 ],
 "metadata": {
  "kernelspec": {
   "display_name": "Python 3",
   "language": "python",
   "name": "python3"
  },
  "language_info": {
   "codemirror_mode": {
    "name": "ipython",
    "version": 2
   },
   "file_extension": ".py",
   "mimetype": "text/x-python",
   "name": "python",
   "nbconvert_exporter": "python",
   "pygments_lexer": "ipython2",
   "version": "2.7.6"
  }
 },
 "nbformat": 4,
 "nbformat_minor": 5
}
