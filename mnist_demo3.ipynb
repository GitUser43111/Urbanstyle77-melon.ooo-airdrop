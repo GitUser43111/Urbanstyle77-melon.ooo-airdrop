{
 "cells": [
  {
   "cell_type": "code",
   "id": "initial_id",
   "metadata": {
    "collapsed": true,
    "ExecuteTime": {
     "end_time": "2024-04-15T10:51:04.057747Z",
     "start_time": "2024-04-15T10:51:04.035729Z"
    }
   },
   "source": [
    "import tensorflow as tf\n",
    "import numpy as np\n",
    "import matplotlib.pyplot as plt\n",
    "import pandas as pd\n",
    "from pathlib import  *\n",
    "import cv2"
   ],
   "outputs": [],
   "execution_count": 20
  },
  {
   "metadata": {
    "ExecuteTime": {
     "end_time": "2024-04-15T11:17:55.740659Z",
     "start_time": "2024-04-15T11:17:54.567669Z"
    }
   },
   "cell_type": "code",
   "source": [
    "dataset_root = Path('./mnist_png')\n",
    "\n",
    "all_files = dataset_root.rglob('*')\n",
    "all_files = filter(lambda x: x.is_file(), all_files)\n",
    "# all_files = list(all_files)\n",
    "\n",
    "rows = []\n",
    "\n",
    "\n",
    "for file in all_files:\n",
    "    path = str(file)\n",
    "    label = int(file.parent.name)\n",
    "    split = file.parent.parent.name\n",
    "    rows.append({\n",
    "        'path': path,\n",
    "        'label': label,\n",
    "        'split': split\n",
    "    })\n",
    "    \n",
    "df = pd.DataFrame(rows).sample(frac=1)\n",
    "df"
   ],
   "id": "23556a8d70488d45",
   "outputs": [
    {
     "data": {
      "text/plain": [
       "                              path  label  split\n",
       "50868  mnist_png/train/3/19445.png      3  train\n",
       "11496  mnist_png/train/2/59415.png      2  train\n",
       "46328  mnist_png/train/3/46729.png      3  train\n",
       "26099  mnist_png/train/6/22178.png      6  train\n",
       "2854     mnist_png/test/6/1491.png      6   test\n",
       "...                            ...    ...    ...\n",
       "6374     mnist_png/test/3/6801.png      3   test\n",
       "45562  mnist_png/train/7/36916.png      7  train\n",
       "5539     mnist_png/test/7/1477.png      7   test\n",
       "21459  mnist_png/train/0/15407.png      0  train\n",
       "55774  mnist_png/train/5/40432.png      5  train\n",
       "\n",
       "[70000 rows x 3 columns]"
      ],
      "text/html": [
       "<div>\n",
       "<style scoped>\n",
       "    .dataframe tbody tr th:only-of-type {\n",
       "        vertical-align: middle;\n",
       "    }\n",
       "\n",
       "    .dataframe tbody tr th {\n",
       "        vertical-align: top;\n",
       "    }\n",
       "\n",
       "    .dataframe thead th {\n",
       "        text-align: right;\n",
       "    }\n",
       "</style>\n",
       "<table border=\"1\" class=\"dataframe\">\n",
       "  <thead>\n",
       "    <tr style=\"text-align: right;\">\n",
       "      <th></th>\n",
       "      <th>path</th>\n",
       "      <th>label</th>\n",
       "      <th>split</th>\n",
       "    </tr>\n",
       "  </thead>\n",
       "  <tbody>\n",
       "    <tr>\n",
       "      <th>50868</th>\n",
       "      <td>mnist_png/train/3/19445.png</td>\n",
       "      <td>3</td>\n",
       "      <td>train</td>\n",
       "    </tr>\n",
       "    <tr>\n",
       "      <th>11496</th>\n",
       "      <td>mnist_png/train/2/59415.png</td>\n",
       "      <td>2</td>\n",
       "      <td>train</td>\n",
       "    </tr>\n",
       "    <tr>\n",
       "      <th>46328</th>\n",
       "      <td>mnist_png/train/3/46729.png</td>\n",
       "      <td>3</td>\n",
       "      <td>train</td>\n",
       "    </tr>\n",
       "    <tr>\n",
       "      <th>26099</th>\n",
       "      <td>mnist_png/train/6/22178.png</td>\n",
       "      <td>6</td>\n",
       "      <td>train</td>\n",
       "    </tr>\n",
       "    <tr>\n",
       "      <th>2854</th>\n",
       "      <td>mnist_png/test/6/1491.png</td>\n",
       "      <td>6</td>\n",
       "      <td>test</td>\n",
       "    </tr>\n",
       "    <tr>\n",
       "      <th>...</th>\n",
       "      <td>...</td>\n",
       "      <td>...</td>\n",
       "      <td>...</td>\n",
       "    </tr>\n",
       "    <tr>\n",
       "      <th>6374</th>\n",
       "      <td>mnist_png/test/3/6801.png</td>\n",
       "      <td>3</td>\n",
       "      <td>test</td>\n",
       "    </tr>\n",
       "    <tr>\n",
       "      <th>45562</th>\n",
       "      <td>mnist_png/train/7/36916.png</td>\n",
       "      <td>7</td>\n",
       "      <td>train</td>\n",
       "    </tr>\n",
       "    <tr>\n",
       "      <th>5539</th>\n",
       "      <td>mnist_png/test/7/1477.png</td>\n",
       "      <td>7</td>\n",
       "      <td>test</td>\n",
       "    </tr>\n",
       "    <tr>\n",
       "      <th>21459</th>\n",
       "      <td>mnist_png/train/0/15407.png</td>\n",
       "      <td>0</td>\n",
       "      <td>train</td>\n",
       "    </tr>\n",
       "    <tr>\n",
       "      <th>55774</th>\n",
       "      <td>mnist_png/train/5/40432.png</td>\n",
       "      <td>5</td>\n",
       "      <td>train</td>\n",
       "    </tr>\n",
       "  </tbody>\n",
       "</table>\n",
       "<p>70000 rows × 3 columns</p>\n",
       "</div>"
      ]
     },
     "execution_count": 84,
     "metadata": {},
     "output_type": "execute_result"
    }
   ],
   "execution_count": 84
  },
  {
   "metadata": {
    "ExecuteTime": {
     "end_time": "2024-04-15T11:18:14.583846Z",
     "start_time": "2024-04-15T11:18:13.649255Z"
    }
   },
   "cell_type": "code",
   "source": [
    "fig, ax = plt.subplots(ncols=6, nrows=1, figsize=(10, 6))\n",
    "\n",
    "i = 0\n",
    "for idx, row in df.sample(6).iterrows():\n",
    "    img = cv2.imread(row.path)\n",
    "    ax[i].imshow(img)\n",
    "    ax[i].set_title(row.label)\n",
    "    i += 1"
   ],
   "id": "502fb080fc2467d7",
   "outputs": [
    {
     "data": {
      "text/plain": [
       "<Figure size 1000x600 with 6 Axes>"
      ],
      "image/png": "[encoded data removed]"
     },
     "metadata": {},
     "output_type": "display_data"
    }
   ],
   "execution_count": 87
  },
  {
   "metadata": {
    "ExecuteTime": {
     "end_time": "2024-04-15T11:18:20.915187Z",
     "start_time": "2024-04-15T11:18:20.900799Z"
    }
   },
   "cell_type": "code",
   "source": [
    "df_train = df[df.split == 'train']\n",
    "df_test = df[df.split == 'test']\n",
    "\n",
    "df_train.shape, df_test.shape"
   ],
   "id": "9536b9d3e7f4482f",
   "outputs": [
    {
     "data": {
      "text/plain": [
       "((60000, 3), (10000, 3))"
      ]
     },
     "execution_count": 88,
     "metadata": {},
     "output_type": "execute_result"
    }
   ],
   "execution_count": 88
  },
  {
   "metadata": {
    "ExecuteTime": {
     "end_time": "2024-04-15T10:57:58.477590Z",
     "start_time": "2024-04-15T10:57:58.474474Z"
    }
   },
   "cell_type": "code",
   "source": "224*224*32/8*1000000/1024/1024/1024",
   "id": "272746757c54dc9",
   "outputs": [
    {
     "data": {
      "text/plain": [
       "186.920166015625"
      ]
     },
     "execution_count": 39,
     "metadata": {},
     "output_type": "execute_result"
    }
   ],
   "execution_count": 39
  },
  {
   "metadata": {
    "ExecuteTime": {
     "end_time": "2024-04-15T11:03:23.427207Z",
     "start_time": "2024-04-15T11:03:23.378702Z"
    }
   },
   "cell_type": "code",
   "source": [
    "samples = [1,2,3,4,5]\n",
    "\n",
    "ds = tf.data.Dataset.from_tensor_slices(samples)\n",
    "ds = ds.map(lambda x: x**2)\n",
    "\n",
    "for x in ds:\n",
    "    print(x)"
   ],
   "id": "bb87b8d968b8a9fb",
   "outputs": [
    {
     "name": "stdout",
     "output_type": "stream",
     "text": [
      "tf.Tensor(1, shape=(), dtype=int32)\n",
      "tf.Tensor(4, shape=(), dtype=int32)\n",
      "tf.Tensor(9, shape=(), dtype=int32)\n",
      "tf.Tensor(16, shape=(), dtype=int32)\n",
      "tf.Tensor(25, shape=(), dtype=int32)\n"
     ]
    }
   ],
   "execution_count": 56
  },
  {
   "metadata": {
    "ExecuteTime": {
     "end_time": "2024-04-15T11:39:33.489933Z",
     "start_time": "2024-04-15T11:39:32.879956Z"
    }
   },
   "cell_type": "code",
   "source": [
    "def make_dataset(df_to_use, batch_size=None, train=True):\n",
    "    paths = df_to_use.path\n",
    "    labels = df_to_use.label\n",
    "\n",
    "    ds_x = tf.data.Dataset.from_tensor_slices(paths)\n",
    "      \n",
    "    ds_x = ds_x.map(lambda x: tf.io.read_file(x))\n",
    "    ds_x = ds_x.map(lambda x: tf.image.decode_png(x))\n",
    "    \n",
    "    # if train:\n",
    "    #     ds_x = ds_x.map(lambda x: tf.image.random_flip_left_right(x))\n",
    "    \n",
    "    ds_x = ds_x.map(lambda x: tf.reshape(x, [28, 28, 1]))\n",
    "    ds_x = ds_x.map(lambda x: x/255)\n",
    "\n",
    "    ds_y = tf.data.Dataset.from_tensor_slices(labels)\n",
    "\n",
    "    ds = tf.data.Dataset.zip((ds_x, ds_y))\n",
    "    ds = ds.shuffle(32)\n",
    "    \n",
    "    if batch_size is not None:\n",
    "        ds = ds.batch(batch_size, drop_remainder=True)\n",
    "        \n",
    "    return ds\n",
    "\n",
    "\n",
    "\n",
    "ds_train = make_dataset(df_train)\n",
    "ds_test = make_dataset(df_test)\n",
    "\n",
    "fig, ax = plt.subplots(ncols=6, nrows=1, figsize=(10, 6))\n",
    "\n",
    "for _ax, sample in zip(ax, ds_train.take(6)):\n",
    "    img = sample[0]\n",
    "    label = sample[1]\n",
    "    _ax.imshow(img)\n",
    "    _ax.set_title(int(label))\n",
    "\n",
    "# ds_train = make_dataset(df_train, batch_size=32)\n",
    "# ds_train"
   ],
   "id": "af29d4ff97b84868",
   "outputs": [
    {
     "data": {
      "text/plain": [
       "<Figure size 1000x600 with 6 Axes>"
      ],
      "image/png": "[encoded data removed]"
     },
     "metadata": {},
     "output_type": "display_data"
    }
   ],
   "execution_count": 124
  },
  {
   "metadata": {
    "ExecuteTime": {
     "end_time": "2024-04-15T11:32:18.184739Z",
     "start_time": "2024-04-15T11:32:18.179894Z"
    }
   },
   "cell_type": "code",
   "source": "# 10000/32",
   "id": "59e392d35fc8b2c3",
   "outputs": [
    {
     "data": {
      "text/plain": [
       "312.5"
      ]
     },
     "execution_count": 112,
     "metadata": {},
     "output_type": "execute_result"
    }
   ],
   "execution_count": 112
  },
  {
   "metadata": {
    "ExecuteTime": {
     "end_time": "2024-04-15T11:37:30.809871Z",
     "start_time": "2024-04-15T11:35:21.180103Z"
    }
   },
   "cell_type": "code",
   "source": [
    "model = tf.keras.Sequential([\n",
    "    tf.keras.layers.Conv2D(16, (3, 3), activation='relu'),  # [bs, W, H, D]\n",
    "    tf.keras.layers.Conv2D(16, (3, 3), activation='relu'),  # [bs, W, H, 16]\n",
    "    tf.keras.layers.MaxPooling2D(pool_size=(2, 2)),\n",
    "    tf.keras.layers.Conv2D(32, (3, 3), activation='relu'), # [bs, ~W/2, ~H/2, 16]\n",
    "    tf.keras.layers.Conv2D(32, (3, 3), activation='relu'), # [bs, ~W/2, ~H/2, 32]\n",
    "    \n",
    "    tf.keras.layers.Flatten(),  # [bs, X]\n",
    "    \n",
    "    tf.keras.layers.Dense(128, activation='relu'),\n",
    "    tf.keras.layers.Dense(10, activation='softmax')\n",
    "])\n",
    "\n",
    "# model.build(input_shape=(None, 28, 28, 1))\n",
    "\n",
    "# tf.keras.utils.plot_model(model, show_shapes=True)\n",
    "\n",
    "ds_train = make_dataset(df_train, batch_size=32)\n",
    "ds_test = make_dataset(df_test, batch_size=32)\n",
    "\n",
    "model.compile(optimizer=tf.keras.optimizers.Adam(), loss='sparse_categorical_crossentropy', metrics=['accuracy'])\n",
    "\n",
    "model.fit(ds_train, validation_data=ds_test, epochs=5)"
   ],
   "id": "a4e42d5250fab38f",
   "outputs": [
    {
     "name": "stdout",
     "output_type": "stream",
     "text": [
      "Epoch 1/5\n",
      "1875/1875 [==============================] - 23s 12ms/step - loss: 0.1228 - accuracy: 0.9622 - val_loss: 0.0525 - val_accuracy: 0.9834\n",
      "Epoch 2/5\n",
      "1875/1875 [==============================] - 21s 11ms/step - loss: 0.0405 - accuracy: 0.9874 - val_loss: 0.0371 - val_accuracy: 0.9884\n",
      "Epoch 3/5\n",
      "1875/1875 [==============================] - 21s 11ms/step - loss: 0.0266 - accuracy: 0.9919 - val_loss: 0.0374 - val_accuracy: 0.9886\n",
      "Epoch 4/5\n",
      "1875/1875 [==============================] - 23s 12ms/step - loss: 0.0198 - accuracy: 0.9937 - val_loss: 0.0435 - val_accuracy: 0.9875\n",
      "Epoch 5/5\n",
      "1875/1875 [==============================] - 21s 11ms/step - loss: 0.0151 - accuracy: 0.9955 - val_loss: 0.0348 - val_accuracy: 0.9901\n"
     ]
    },
    {
     "data": {
      "text/plain": [
       "<keras.src.callbacks.History at 0x7f742004a7f0>"
      ]
     },
     "execution_count": 120,
     "metadata": {},
     "output_type": "execute_result"
    }
   ],
   "execution_count": 120
  },
  {
   "metadata": {
    "ExecuteTime": {
     "end_time": "2024-04-15T11:42:50.231802Z",
     "start_time": "2024-04-15T11:42:49.306530Z"
    }
   },
   "cell_type": "code",
   "source": [
    "ds_test = make_dataset(df_test.sample(6)).batch(1)\n",
    "\n",
    "preds = model.predict(ds_test)\n",
    "\n",
    "preds = np.argmax(preds, axis=1)\n",
    "\n",
    "fig, ax = plt.subplots(ncols=6, nrows=1, figsize=(10, 6))\n",
    "\n",
    "for _ax, sample, y_pred in zip(ax, ds_test.take(6), preds):\n",
    "    _ax.imshow(sample[0][0])\n",
    "    \n",
    "    title = f'Gt: {int(sample[1])} | Pred: {y_pred}'\n",
    "    _ax.set_title(title)"
   ],
   "id": "350655b0f2964d97",
   "outputs": [
    {
     "name": "stdout",
     "output_type": "stream",
     "text": [
      "6/6 [==============================] - 0s 3ms/step\n"
     ]
    },
    {
     "data": {
      "text/plain": [
       "<Figure size 1000x600 with 6 Axes>"
      ],
      "image/png": "[encoded data removed]"
     },
     "metadata": {},
     "output_type": "display_data"
    }
   ],
   "execution_count": 134
  }
 ],
 "metadata": {
  "kernelspec": {
   "display_name": "Python 3",
   "language": "python",
   "name": "python3"
  },
  "language_info": {
   "codemirror_mode": {
    "name": "ipython",
    "version": 2
   },
   "file_extension": ".py",
   "mimetype": "text/x-python",
   "name": "python",
   "nbconvert_exporter": "python",
   "pygments_lexer": "ipython2",
   "version": "2.7.6"
  }
 },
 "nbformat": 4,
 "nbformat_minor": 5
}
